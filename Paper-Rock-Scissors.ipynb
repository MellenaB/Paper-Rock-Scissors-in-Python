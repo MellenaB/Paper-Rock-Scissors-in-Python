{
 "cells": [
  {
   "cell_type": "code",
   "execution_count": 1,
   "id": "6c0fc461",
   "metadata": {},
   "outputs": [],
   "source": [
    "# Paper, Rock, Scissor in Python\n",
    "import random"
   ]
  },
  {
   "cell_type": "code",
   "execution_count": 2,
   "id": "e5fab0d5",
   "metadata": {},
   "outputs": [],
   "source": [
    "rock = '''\n",
    "    _______\n",
    "---'   ____)\n",
    "      (_____)\n",
    "      (_____)\n",
    "      (____)\n",
    "---.__(___)\n",
    "'''\n",
    "\n",
    "paper = '''\n",
    "    _______\n",
    "---'   ____)____\n",
    "          ______)\n",
    "          _______)\n",
    "         _______)\n",
    "---.__________)\n",
    "'''\n",
    "\n",
    "scissors = '''\n",
    "    _______\n",
    "---'   ____)____\n",
    "          ______)\n",
    "       __________)\n",
    "      (____)\n",
    "---.__(___)\n",
    "'''"
   ]
  },
  {
   "cell_type": "code",
   "execution_count": 3,
   "id": "78d2a053",
   "metadata": {},
   "outputs": [],
   "source": [
    "# place the three images into a list to follow with choices since list starts with an index of 0.\n",
    "game_images = [rock, paper, scissors]"
   ]
  },
  {
   "cell_type": "code",
   "execution_count": 4,
   "id": "13db5b37",
   "metadata": {},
   "outputs": [
    {
     "name": "stdout",
     "output_type": "stream",
     "text": [
      "What do you choose? Type 0 for Rock, 1 for Paper or 2 for Scissors.\n",
      "0\n"
     ]
    }
   ],
   "source": [
    "#1 Ask user to chose an input and wrap it with an \"int\" to make it a whole number\n",
    "user_choice = int(input(\"What do you choose? Type 0 for Rock, 1 for Paper or 2 for Scissors.\\n\"))\n"
   ]
  },
  {
   "cell_type": "code",
   "execution_count": 5,
   "id": "9017e2f0",
   "metadata": {},
   "outputs": [
    {
     "name": "stdout",
     "output_type": "stream",
     "text": [
      "\n",
      "    _______\n",
      "---'   ____)\n",
      "      (_____)\n",
      "      (_____)\n",
      "      (____)\n",
      "---.__(___)\n",
      "\n",
      "Computer chose:\n",
      "\n",
      "    _______\n",
      "---'   ____)\n",
      "      (_____)\n",
      "      (_____)\n",
      "      (____)\n",
      "---.__(___)\n",
      "\n",
      "It's a draw\n"
     ]
    }
   ],
   "source": [
    "# throw an error to contain the choices between 0 and 2 first then if it passes do everything else.\n",
    "if user_choice >= 3 or user_choice < 0: \n",
    "    print(\"You typed an invalid number, you lose!\") \n",
    "else:\n",
    "    # printing game images while using the user_choice as an index. \n",
    "    print(game_images[user_choice])  \n",
    "    \n",
    "    #2 Ask the computer to chose between 0 and 2\n",
    "    computer_choice = random.randint(0, 2)\n",
    "    print(\"Computer chose:\")\n",
    "    \n",
    "    print(game_images[computer_choice])\n",
    "\n",
    "    # Rock beats Scissors\n",
    "    if user_choice == 0 and computer_choice == 2:\n",
    "      print(\"You win!\")\n",
    "    # Rock beats Scissors\n",
    "    elif computer_choice == 0 and user_choice == 2:\n",
    "      print(\"You lose\")\n",
    "    # since we only have 0 and 1 we can use the arithmetic symbols.\n",
    "    # paper = 1 wraps around rock 0 therfore user_choice loses.\n",
    "    elif computer_choice > user_choice:\n",
    "      print(\"You lose\")\n",
    "    # paper = 1 wraps around rock 0 therfore computer_chose loses.\n",
    "    elif user_choice > computer_choice:\n",
    "      print(\"You win!\")\n",
    "    # if the inputs are the same then its a draw.\n",
    "    elif computer_choice == user_choice:\n",
    "      print(\"It's a draw\")\n"
   ]
  },
  {
   "cell_type": "code",
   "execution_count": null,
   "id": "673d78c2",
   "metadata": {},
   "outputs": [],
   "source": []
  }
 ],
 "metadata": {
  "kernelspec": {
   "display_name": "Python 3 (ipykernel)",
   "language": "python",
   "name": "python3"
  },
  "language_info": {
   "codemirror_mode": {
    "name": "ipython",
    "version": 3
   },
   "file_extension": ".py",
   "mimetype": "text/x-python",
   "name": "python",
   "nbconvert_exporter": "python",
   "pygments_lexer": "ipython3",
   "version": "3.11.3"
  }
 },
 "nbformat": 4,
 "nbformat_minor": 5
}
